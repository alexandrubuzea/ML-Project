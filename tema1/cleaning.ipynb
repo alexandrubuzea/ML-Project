{
 "cells": [
  {
   "cell_type": "code",
   "execution_count": 1,
   "metadata": {},
   "outputs": [],
   "source": [
    "import pandas as pd\n",
    "import numpy as np"
   ]
  },
  {
   "cell_type": "code",
   "execution_count": 2,
   "metadata": {},
   "outputs": [
    {
     "data": {
      "text/html": [
       "<div>\n",
       "<style scoped>\n",
       "    .dataframe tbody tr th:only-of-type {\n",
       "        vertical-align: middle;\n",
       "    }\n",
       "\n",
       "    .dataframe tbody tr th {\n",
       "        vertical-align: top;\n",
       "    }\n",
       "\n",
       "    .dataframe thead th {\n",
       "        text-align: right;\n",
       "    }\n",
       "</style>\n",
       "<table border=\"1\" class=\"dataframe\">\n",
       "  <thead>\n",
       "    <tr style=\"text-align: right;\">\n",
       "      <th></th>\n",
       "      <th>Transportation</th>\n",
       "      <th>Regular_fiber_diet</th>\n",
       "      <th>Diagnostic_in_family_history</th>\n",
       "      <th>High_calorie_diet</th>\n",
       "      <th>Sedentary_hours_daily</th>\n",
       "      <th>Age</th>\n",
       "      <th>Alcohol</th>\n",
       "      <th>Est_avg_calorie_intake</th>\n",
       "      <th>Main_meals_daily</th>\n",
       "      <th>Snacks</th>\n",
       "      <th>Height</th>\n",
       "      <th>Smoker</th>\n",
       "      <th>Water_daily</th>\n",
       "      <th>Calorie_monitoring</th>\n",
       "      <th>Weight</th>\n",
       "      <th>Physical_activity_level</th>\n",
       "      <th>Technology_time_use</th>\n",
       "      <th>Gender</th>\n",
       "      <th>Diagnostic</th>\n",
       "    </tr>\n",
       "  </thead>\n",
       "  <tbody>\n",
       "    <tr>\n",
       "      <th>0</th>\n",
       "      <td>Public_Transportation</td>\n",
       "      <td>2</td>\n",
       "      <td>yes</td>\n",
       "      <td>no</td>\n",
       "      <td>3,73</td>\n",
       "      <td>21</td>\n",
       "      <td>no</td>\n",
       "      <td>2474</td>\n",
       "      <td>3</td>\n",
       "      <td>Sometimes</td>\n",
       "      <td>1,62</td>\n",
       "      <td>no</td>\n",
       "      <td>2</td>\n",
       "      <td>no</td>\n",
       "      <td>64</td>\n",
       "      <td>0</td>\n",
       "      <td>1</td>\n",
       "      <td>Female</td>\n",
       "      <td>D1</td>\n",
       "    </tr>\n",
       "    <tr>\n",
       "      <th>1</th>\n",
       "      <td>Public_Transportation</td>\n",
       "      <td>3</td>\n",
       "      <td>yes</td>\n",
       "      <td>no</td>\n",
       "      <td>2,92</td>\n",
       "      <td>21</td>\n",
       "      <td>Sometimes</td>\n",
       "      <td>2429</td>\n",
       "      <td>3</td>\n",
       "      <td>Sometimes</td>\n",
       "      <td>1,52</td>\n",
       "      <td>yes</td>\n",
       "      <td>3</td>\n",
       "      <td>yes</td>\n",
       "      <td>56</td>\n",
       "      <td>3</td>\n",
       "      <td>0</td>\n",
       "      <td>Female</td>\n",
       "      <td>D1</td>\n",
       "    </tr>\n",
       "    <tr>\n",
       "      <th>2</th>\n",
       "      <td>Public_Transportation</td>\n",
       "      <td>2</td>\n",
       "      <td>yes</td>\n",
       "      <td>no</td>\n",
       "      <td>3,85</td>\n",
       "      <td>23</td>\n",
       "      <td>Frequently</td>\n",
       "      <td>2656</td>\n",
       "      <td>3</td>\n",
       "      <td>Sometimes</td>\n",
       "      <td>1,8</td>\n",
       "      <td>no</td>\n",
       "      <td>2</td>\n",
       "      <td>no</td>\n",
       "      <td>77</td>\n",
       "      <td>2</td>\n",
       "      <td>1</td>\n",
       "      <td>Male</td>\n",
       "      <td>D1</td>\n",
       "    </tr>\n",
       "    <tr>\n",
       "      <th>3</th>\n",
       "      <td>Walking</td>\n",
       "      <td>3</td>\n",
       "      <td>no</td>\n",
       "      <td>no</td>\n",
       "      <td>3,01</td>\n",
       "      <td>27</td>\n",
       "      <td>Frequently</td>\n",
       "      <td>2260</td>\n",
       "      <td>3</td>\n",
       "      <td>Sometimes</td>\n",
       "      <td>1,8</td>\n",
       "      <td>no</td>\n",
       "      <td>2</td>\n",
       "      <td>no</td>\n",
       "      <td>-1</td>\n",
       "      <td>2</td>\n",
       "      <td>0</td>\n",
       "      <td>Male</td>\n",
       "      <td>D2</td>\n",
       "    </tr>\n",
       "    <tr>\n",
       "      <th>4</th>\n",
       "      <td>Public_Transportation</td>\n",
       "      <td>2</td>\n",
       "      <td>no</td>\n",
       "      <td>no</td>\n",
       "      <td>2,73</td>\n",
       "      <td>22</td>\n",
       "      <td>Sometimes</td>\n",
       "      <td>1895</td>\n",
       "      <td>1</td>\n",
       "      <td>Sometimes</td>\n",
       "      <td>1,78</td>\n",
       "      <td>no</td>\n",
       "      <td>2</td>\n",
       "      <td>no</td>\n",
       "      <td>89,8</td>\n",
       "      <td>0</td>\n",
       "      <td>0</td>\n",
       "      <td>Male</td>\n",
       "      <td>D3</td>\n",
       "    </tr>\n",
       "  </tbody>\n",
       "</table>\n",
       "</div>"
      ],
      "text/plain": [
       "          Transportation Regular_fiber_diet Diagnostic_in_family_history  \\\n",
       "0  Public_Transportation                  2                          yes   \n",
       "1  Public_Transportation                  3                          yes   \n",
       "2  Public_Transportation                  2                          yes   \n",
       "3                Walking                  3                           no   \n",
       "4  Public_Transportation                  2                           no   \n",
       "\n",
       "  High_calorie_diet Sedentary_hours_daily Age     Alcohol  \\\n",
       "0                no                  3,73  21          no   \n",
       "1                no                  2,92  21   Sometimes   \n",
       "2                no                  3,85  23  Frequently   \n",
       "3                no                  3,01  27  Frequently   \n",
       "4                no                  2,73  22   Sometimes   \n",
       "\n",
       "   Est_avg_calorie_intake Main_meals_daily     Snacks Height Smoker  \\\n",
       "0                    2474                3  Sometimes   1,62     no   \n",
       "1                    2429                3  Sometimes   1,52    yes   \n",
       "2                    2656                3  Sometimes    1,8     no   \n",
       "3                    2260                3  Sometimes    1,8     no   \n",
       "4                    1895                1  Sometimes   1,78     no   \n",
       "\n",
       "  Water_daily Calorie_monitoring Weight Physical_activity_level  \\\n",
       "0           2                 no     64                       0   \n",
       "1           3                yes     56                       3   \n",
       "2           2                 no     77                       2   \n",
       "3           2                 no     -1                       2   \n",
       "4           2                 no   89,8                       0   \n",
       "\n",
       "   Technology_time_use  Gender Diagnostic  \n",
       "0                    1  Female         D1  \n",
       "1                    0  Female         D1  \n",
       "2                    1    Male         D1  \n",
       "3                    0    Male         D2  \n",
       "4                    0    Male         D3  "
      ]
     },
     "execution_count": 2,
     "metadata": {},
     "output_type": "execute_result"
    }
   ],
   "source": [
    "df = pd.read_csv('./data.csv')\n",
    "\n",
    "df.head()"
   ]
  },
  {
   "cell_type": "code",
   "execution_count": 3,
   "metadata": {},
   "outputs": [
    {
     "data": {
      "text/plain": [
       "Transportation                  object\n",
       "Regular_fiber_diet              object\n",
       "Diagnostic_in_family_history    object\n",
       "High_calorie_diet               object\n",
       "Sedentary_hours_daily           object\n",
       "Age                             object\n",
       "Alcohol                         object\n",
       "Est_avg_calorie_intake           int64\n",
       "Main_meals_daily                object\n",
       "Snacks                          object\n",
       "Height                          object\n",
       "Smoker                          object\n",
       "Water_daily                     object\n",
       "Calorie_monitoring              object\n",
       "Weight                          object\n",
       "Physical_activity_level         object\n",
       "Technology_time_use              int64\n",
       "Gender                          object\n",
       "Diagnostic                      object\n",
       "dtype: object"
      ]
     },
     "execution_count": 3,
     "metadata": {},
     "output_type": "execute_result"
    }
   ],
   "source": [
    "df.dtypes"
   ]
  },
  {
   "cell_type": "code",
   "execution_count": 4,
   "metadata": {},
   "outputs": [
    {
     "data": {
      "text/plain": [
       "array(['Public_Transportation', 'Walking', 'Automobile', 'Motorbike',\n",
       "       'Bike'], dtype=object)"
      ]
     },
     "execution_count": 4,
     "metadata": {},
     "output_type": "execute_result"
    }
   ],
   "source": [
    "df['Transportation'].unique()"
   ]
  },
  {
   "cell_type": "code",
   "execution_count": 5,
   "metadata": {},
   "outputs": [],
   "source": [
    "df['Transportation'] = df['Transportation'].astype(str)"
   ]
  },
  {
   "cell_type": "code",
   "execution_count": 6,
   "metadata": {},
   "outputs": [
    {
     "data": {
      "text/plain": [
       "array(['2', '3', '1', '2,450218', '2,880161', '2,00876', '2,596579',\n",
       "       '2,591439', '2,392665', '1,123939', '2,027574', '2,658112',\n",
       "       '2,88626', '2,714447', '2,750715', '1,4925', '2,205439',\n",
       "       '2,059138', '2,310423', '2,052932', '2,596364', '2,767731',\n",
       "       '2,815157', '2,737762', '2,568063', '2,524428', '2,971574',\n",
       "       '1,0816', '1,270448', '1,344854', '2,959658', '2,725282',\n",
       "       '2,844607', '2,44004', '2,432302', '2,449267', '2,929889',\n",
       "       '2,015258', '1,031149', '1,592183', '1,21498', '1,522001',\n",
       "       '2,703436', '2,362918', '2,14084', '2,5596', '2,336044',\n",
       "       '1,133844', '1,757466', '2,204914', '2,927218', '2,890535',\n",
       "       '2,530066', '2,241606', '1,003566', '2,652779', '2,897899',\n",
       "       '2,483979', '2,945967', '2,784464', '1,005578', '2,938031',\n",
       "       '2,842102', '1,889199', '2,943749', '2,33998', '1,950742',\n",
       "       '2,277436', '2,371338', '2,977018', '2,753752', '2,318355',\n",
       "       '2,594653', '2,886157', '2,967853', '2,619835', '1,053534',\n",
       "       '2,530233', '2,8813', '2,824559', '2,762325', '2,070964',\n",
       "       '2,68601', '2,794197', '2,720701', '2,880792', '2,674431',\n",
       "       '2,55996', '1,140615', '2,562409', '2,004146', '2,690754',\n",
       "       '2,051283', '2,19005', '2,21498', '2,91548', '2,708965',\n",
       "       '2,853513', '2,580872', '2,508835', '2,896562', '2,911877',\n",
       "       '2,910733', '2,966126', '2,613249', '2,627031', '2,919751',\n",
       "       '2,494451', '1,69427', '1,601236', '1,052699', '2,910345',\n",
       "       '2,866383', '2,913486', '2,432886', '2,883745', '2,707666',\n",
       "       '2,919584', '2,969205', '2,486189', '1,642241', '1,036414',\n",
       "       '1,649974', '1,118436', '2,673638', '2,120185', '2,34222',\n",
       "       '2,86099', '2,559571', '2,424977', '1,303878', '1,889883',\n",
       "       '2,984004', '2,749268', '1,202075', '1,871213', '2,341133',\n",
       "       '1,450218', '1,206276', '2,81646', '1,758394', '2,577427',\n",
       "       '2,052152', '2,954996', '2,555401', '2,915279', '1,570089',\n",
       "       '1,94313', '2,903545', '1,75375', '2,543563', '2,39728',\n",
       "       '2,278644', '2,823179', '2,061952', '2,838969', '2,652958',\n",
       "       '1,27785', '1,729824', '2,303367', '2,948425', '2,291846',\n",
       "       '1,906194', '1,834155', '2,048582', '2,948248', '2,869436',\n",
       "       '2,293705', '2,510583', '2,366949', '2,615788', '2,217267',\n",
       "       '2,801514', '2,188722', '2,971351', '2,086093', '1,901611',\n",
       "       '2,446872', '2,21232', '2,427689', '2,357496', '1,078529',\n",
       "       '1,064162', '1,993101', '2,620963', '2,95118', '2,021446',\n",
       "       '2,000466', '2,5621', '2,96008', '2,53915', '2,244142', '2,253371',\n",
       "       '2,851664', '1,31415', '1,321028', '2,253998', '2,778079',\n",
       "       '2,838037', '2,814453', '2,013782', '2,459976', '2,643183',\n",
       "       '2,22399', '2,104105', '1,972545', '2,286481', '2,971588',\n",
       "       '2,872121', '2,109162', '2,178889', '1,142468', '2,843709',\n",
       "       '2,416044', '2,146598', '1,188089', '1,910176', '2,956671',\n",
       "       '2,288604', '2,277077', '2,138334', '2,048216', '2,8557',\n",
       "       '2,995599', '2,987148', '2,786008', '2,342323', '2,213135',\n",
       "       '2,273548', '2,780699', '1,687569', '1,989905', '2,162519',\n",
       "       '2,923916', '2,99448', '2,507841', '1,836554', '2,286146',\n",
       "       '2,487167', '2,185938', '2,206399', '1,952987', '2,749629',\n",
       "       '1,595746', '2,372494', '2,153639', '2,793561', '2,992329',\n",
       "       '2,927409', '2,706134', '2,010684', '2,300408', '2,119643',\n",
       "       '2,901924', '2,451009', '2,754646', '2,417635', '2,512719',\n",
       "       '1,771693', '1,57223', '2,661556', '2,097373', '2,061461',\n",
       "       '1,317729', '1,882235', '2,951591', '2,067817', '2,54527',\n",
       "       '2,694281', '2,821977', '2,252472', '2,033745', '2,595128',\n",
       "       '2,759286', '1,925064', '2,846981', '2,631565', '2,522399',\n",
       "       '2,784471', '1,650505', '1,961347', '2,133955', '2,684528',\n",
       "       '2,265973', '1,306844', '2,258795', '2,689929', '2,712747',\n",
       "       '2,353603', '2,598051', '1,718156', '2,795086', '2,030256',\n",
       "       '2,493448', '2,442536', '2,003951', '1,34138', '2,607335',\n",
       "       '2,061384', '2,696381', '1,116068', '2,116432', '2,884212',\n",
       "       '2,444599', '2,976975', '2,766036', '1,096455', '2,129969',\n",
       "       '2,735297', '2,01054', '2,689577', '2,413156', '2,923433',\n",
       "       '2,882522', '1,973499', '2,156065', '2,992205', '2,944287',\n",
       "       '1,780746', '2,164062', '2,247704', '2,011656', '2,03414',\n",
       "       '2,746408', '2,1239', '2,332074', '2,748243', '2,303656',\n",
       "       '1,904732', '1,979944', '2,734314', '2,784383', '2,009952',\n",
       "       '2,008656', '1,122127', '2,319776', '1,899116', '2,042762',\n",
       "       '2,129668', '2,182401', '2,802696', '2,492758', '2,733129',\n",
       "       '2,294067', '2,315932', '2,802128', '2,79606', '2,086898',\n",
       "       '2,333503', '2,535315', '2,765769', '2,215464', '2,63165',\n",
       "       '2,942154', '2,716909', '1,83746', '1,936479', '2,045027',\n",
       "       '2,760607', '2,09449', '2,907062', '2,399531', '1,521604',\n",
       "       '2,76802', '2,325623', '2,076689', '2,271306', '2,33361',\n",
       "       '2,13683', '2,909853', '2,490507', '1,063449', '2,699282',\n",
       "       '2,4277', '2,87599', '2,846452', '2,19011', '2,069267', '1,362441',\n",
       "       '2,09663', '2,928234', '2,496455', '1,70825', '2,262171',\n",
       "       '2,740633', '1,081585', '2,587789', '2,252653', '2,036613',\n",
       "       '2,609123', '1,036159', '1,851262', '2,031185', '2,028225',\n",
       "       '2,037585', '1,853314', '1,00876', '2,103335', '2,060922',\n",
       "       '2,533605', '2,457547', '2,983851', '2,061969', '2,450784',\n",
       "       '2,972426', '2,467002', '2,934671', '2,043359', '2,787589',\n",
       "       '2,150054', '1,557287', '2,152264', '2,08841', '2,180047',\n",
       "       '1,826885', '1,524428', '1,164062', '2,123159', '2,259679',\n",
       "       '2,044326', '2,843456', '2,871137', '2,282803', '2,020502',\n",
       "       '2,020785', '2,407817', '1,899793', '2,274164', '1,897796',\n",
       "       '2,85916', '2,340405', '2,921576', '2,92711', '2,805533',\n",
       "       '2,902469', '2,845961', '2,252698', '2,02091', '2,108163',\n",
       "       '1,518966', '2,260543', '2,522183', '2,186322', '2,76632',\n",
       "       '2,071622', '1,918251', '1,967061', '2,640801', '2,870152',\n",
       "       '2,482575', '2,290095', '2,074843', '2,14128', '2,334474',\n",
       "       '2,693859', '2,607747', '2,66889', '2,921225', '1,492834',\n",
       "       '1,220024', '2,667676', '2,569075', '2,949242', '2,871768',\n",
       "       '2,540949', '2,222282', '2,04516', '2,094184', '1,123672',\n",
       "       '2,049112', '1,880534', '1,203754', '2,73691', '2,736628',\n",
       "       '2,642744', '2,387426', '2,107854', '2,253707', '2,393837',\n",
       "       '2,348745', '2,312825', '2,490776', '2,078082', '2,805512',\n",
       "       '1,276858', '2,396265', '2,663866', '2,685484', '2,055209',\n",
       "       '2,025479', '2,385502', '2,465575', '2,818502', '2,081238',\n",
       "       '1,368978', '1,712848', '1,3307', '1,961069', '2,976509',\n",
       "       '2,319648', '1,261288', '2,76533', '2,317734', '1,588114',\n",
       "       '2,549782', '2,206276', '2,18354', '2,962415', '1,99124',\n",
       "       '2,408561', '2,758394', '2,956297', '1,369529', '1,392665',\n",
       "       '2,630401', '2,869778', '1,868212', '1,108663', '2,95801',\n",
       "       '2,197261', '2,048962', '2,139196', '2,72989', '1,994679',\n",
       "       '2,403421', '2,964319', '1,617093', '1,631144', '2,317459',\n",
       "       '2,501224', '2,983042', '2,323351', '1,428289', '1,992889',\n",
       "       '1,562804', '1,794825', '2,305349', '2,576449', '2,633855',\n",
       "       '2,200588', '2,05687', '2,247795', '2,239634', '2,09283', '2,9673',\n",
       "       '2,225731', '2,178308', '2,065752', '2,263245', '2,443538',\n",
       "       '2,744994', '2,630137', '2,113843', '2,821727', '2,312528',\n",
       "       '2,938801', '2,050619', '1,457758', '2,028571', '2,177896',\n",
       "       '2,252382', '2,668949', '2,723953', '2,736298', '2,871016',\n",
       "       '2,96405', '2,653721', '2,859097', '1,572036', '1,387489',\n",
       "       '2,941929', '2,973569', '2,041376', '2,02472', '2,133964',\n",
       "       '2,702457', '1,760038', '1,996646', '2,644094', '2,475892',\n",
       "       '2,998441', '2,397284', '2,382705', '2,176317', '2,877743',\n",
       "       '2,303041', '1,585183', '2,281963', '2,561638', '2,600217',\n",
       "       '2,79166', '2,08868', '2,328469', '2,002784', '1,975675',\n",
       "       '2,002076', '2,218599', '2,392179', '2,381164', '2,008245',\n",
       "       '2,155182', '2,969233', '2,765063', '2,195964', '2,918113',\n",
       "       '2,939727', '1,264234', '1,517912', '2,23372', '1,475906',\n",
       "       '2,032883', '2,046651', '2,667229', '2,819934', '2,954417',\n",
       "       '2,826251', '2,935157', '2,870895', '2,869833', '1,878251',\n",
       "       '1,750809', '1,168856', '1,443674', '2,826036', '2,9553',\n",
       "       '2,772027', '2,108638', '2,467548', '2,585942', '2,14961',\n",
       "       '2,938616', '2,535154', '2,611222', '1,800122', '1,482722',\n",
       "       '1,735664', '1,655684', '2,598207', '2,519592', '2,111887',\n",
       "       '2,970983', '2,907542', '1,451337', '1,537505', '1,893428',\n",
       "       '2,007845', '2,487781', '2,541785', '2,813775', '2,922511',\n",
       "       '2,836055', '2,880759', '2,766441', '2,997524', '2,181057',\n",
       "       '1,924632', '1,397468', '2,191429', '2,075321', '1,626369',\n",
       "       '1,263216', '1,067909', '2,310751', '2,294259', '2,57649',\n",
       "       '2,679664', '2,938687', '2,654792', '2,731368', '2,22259',\n",
       "       '2,432355', '2,497548', '2,671238', '2,57691', '2,341999',\n",
       "       '2,117121', '2,247037', '2,244654', '2,128574', '2,068834',\n",
       "       '2,073224', '2,145114', '2,997951', '2,911312', '2,175276',\n",
       "       '2,21965', '2,203962', '1,947495', '2,262292', '2,219186',\n",
       "       '2,314175', '2,423291', '2,637202', '2,974006', '2,347942',\n",
       "       '2,654076', '2739', '2,611847', '2,766612', '2,777165', '2,571274',\n",
       "       '2,49619', '2,151335', '2,01695', '2,927187', '1,412566',\n",
       "       '1,289315', '1,624366', '1,528331', '2,037042', '2,191108',\n",
       "       '1,431346', '1,84199', '2,499388', '2,230742', '2,240757',\n",
       "       '2,996186', '2,649406', '2,525884', '2,736647', '2,684335',\n",
       "       '2,425503', '1,469384', '2,906269', '2,808027', '2,636719',\n",
       "       '2,996717', '2,880483', '2,919526', '2,724121', '2,801992',\n",
       "       '2,748971', '2,680375'], dtype=object)"
      ]
     },
     "execution_count": 6,
     "metadata": {},
     "output_type": "execute_result"
    }
   ],
   "source": [
    "df['Regular_fiber_diet'].unique()"
   ]
  },
  {
   "cell_type": "code",
   "execution_count": 7,
   "metadata": {},
   "outputs": [],
   "source": [
    "df['Regular_fiber_diet'] = df['Regular_fiber_diet'].apply(lambda s: s.replace(',', '.')).astype(float)"
   ]
  },
  {
   "cell_type": "code",
   "execution_count": 8,
   "metadata": {},
   "outputs": [
    {
     "data": {
      "text/plain": [
       "Transportation                   object\n",
       "Regular_fiber_diet              float64\n",
       "Diagnostic_in_family_history     object\n",
       "High_calorie_diet                object\n",
       "Sedentary_hours_daily            object\n",
       "Age                              object\n",
       "Alcohol                          object\n",
       "Est_avg_calorie_intake            int64\n",
       "Main_meals_daily                 object\n",
       "Snacks                           object\n",
       "Height                           object\n",
       "Smoker                           object\n",
       "Water_daily                      object\n",
       "Calorie_monitoring               object\n",
       "Weight                           object\n",
       "Physical_activity_level          object\n",
       "Technology_time_use               int64\n",
       "Gender                           object\n",
       "Diagnostic                       object\n",
       "dtype: object"
      ]
     },
     "execution_count": 8,
     "metadata": {},
     "output_type": "execute_result"
    }
   ],
   "source": [
    "df.dtypes"
   ]
  },
  {
   "cell_type": "code",
   "execution_count": 9,
   "metadata": {},
   "outputs": [],
   "source": [
    "df['Diagnostic_in_family_history'].unique()\n",
    "df['Diagnostic_in_family_history'] = df['Diagnostic_in_family_history'].apply(lambda x: x == 'yes').astype(bool)"
   ]
  },
  {
   "cell_type": "code",
   "execution_count": 10,
   "metadata": {},
   "outputs": [
    {
     "data": {
      "text/plain": [
       "Transportation                   object\n",
       "Regular_fiber_diet              float64\n",
       "Diagnostic_in_family_history       bool\n",
       "High_calorie_diet                object\n",
       "Sedentary_hours_daily            object\n",
       "Age                              object\n",
       "Alcohol                          object\n",
       "Est_avg_calorie_intake            int64\n",
       "Main_meals_daily                 object\n",
       "Snacks                           object\n",
       "Height                           object\n",
       "Smoker                           object\n",
       "Water_daily                      object\n",
       "Calorie_monitoring               object\n",
       "Weight                           object\n",
       "Physical_activity_level          object\n",
       "Technology_time_use               int64\n",
       "Gender                           object\n",
       "Diagnostic                       object\n",
       "dtype: object"
      ]
     },
     "execution_count": 10,
     "metadata": {},
     "output_type": "execute_result"
    }
   ],
   "source": [
    "df.dtypes"
   ]
  },
  {
   "cell_type": "code",
   "execution_count": 11,
   "metadata": {},
   "outputs": [],
   "source": [
    "df['High_calorie_diet'].unique()\n",
    "df['High_calorie_diet'] = df['High_calorie_diet'].apply(lambda x: x == 'yes').astype(bool)"
   ]
  },
  {
   "cell_type": "code",
   "execution_count": 12,
   "metadata": {},
   "outputs": [
    {
     "data": {
      "text/plain": [
       "Transportation                   object\n",
       "Regular_fiber_diet              float64\n",
       "Diagnostic_in_family_history       bool\n",
       "High_calorie_diet                  bool\n",
       "Sedentary_hours_daily            object\n",
       "Age                              object\n",
       "Alcohol                          object\n",
       "Est_avg_calorie_intake            int64\n",
       "Main_meals_daily                 object\n",
       "Snacks                           object\n",
       "Height                           object\n",
       "Smoker                           object\n",
       "Water_daily                      object\n",
       "Calorie_monitoring               object\n",
       "Weight                           object\n",
       "Physical_activity_level          object\n",
       "Technology_time_use               int64\n",
       "Gender                           object\n",
       "Diagnostic                       object\n",
       "dtype: object"
      ]
     },
     "execution_count": 12,
     "metadata": {},
     "output_type": "execute_result"
    }
   ],
   "source": [
    "df.dtypes"
   ]
  },
  {
   "cell_type": "code",
   "execution_count": 13,
   "metadata": {},
   "outputs": [
    {
     "data": {
      "text/plain": [
       "array(['3,73', '2,92', '3,85', '3,01', '2,73', '3,12', '3,09', '3,53',\n",
       "       '3,04', '4,47', '3,9', '2,78', '3,6', '3,37', '3,45', '2,86',\n",
       "       '2,21', '2,94', '4,44', '2,97', '3,1', '4,29', '3,57', '3,91',\n",
       "       '4,56', '3,22', '3', '4,31', '2,68', '3,34', '2,29', '4,42',\n",
       "       '2,81', '2,23', '3,13', '3,14', '3,07', '3,28', '2,25', '2,31',\n",
       "       '2,32', '3,75', '3,18', '3,4', '2,99', '3,03', '4,08', '3,26',\n",
       "       '3,88', '3,47', '2,45', '3,83', '4,16', '3,5', '2,56', '3,06',\n",
       "       '3,58', '2,77', '3,19', '3,15', '2,38', '2,7', '2,93', '3,69',\n",
       "       '2,67', '3,93', '2,41', '2,95', '2,35', '2,55', '3,35', '2,63',\n",
       "       '2,72', '2,26', '3,29', '3,78', '3,08', '3,66', '2,6', '2,57',\n",
       "       '2,59', '3,42', '4,13', '3,41', '3,31', '4,38', '3,21', '4,15',\n",
       "       '3,11', '2,58', '3,65', '4,1', '2,24', '4,43', '3,76', '2,37',\n",
       "       '2,8', '2,91', '3,17', '2,65', '2,46', '4,61', '4,46', '2,85',\n",
       "       '3,48', '2,51', '2,49', '2,34', '4,11', '2,53', '2,48', '2,47',\n",
       "       '2,76', '2,69', '2,87', '2,82', '3,97', '4,66', '3,8', '3,84',\n",
       "       '3,05', '2,79', '3,51', '4,02', '2,42', '3,54', '3,94', '4,3',\n",
       "       '2,83', '3,32', '3,79', '3,86', '3,92', '4,37', '2,66', '2,98',\n",
       "       '3,3', '3,82', '4,28', '3,02', '3,56', '3,23', '3,87', '2,27',\n",
       "       '2,64', '3,36', '3,2', '3,38', '3,71', '2,75', '4,03', '4,21',\n",
       "       '2,44', '3,43', '4,49', '3,39', '3,55', '2,3', '3,52', '3,81',\n",
       "       '2,96', '2,43', '4,57', '4,52', '4,17', '4,34', '4,09', '3,63',\n",
       "       '2,74', '2,9', '3,44', '3,89', '4,18', '2,5', '4,65', '3,24',\n",
       "       '2,33', '4,39', '4,4', '3,7', '2,88', '3,99', '3,49', '2,54',\n",
       "       '3,74', '2,52', '2,62', '2,39', '3,64', '4,22', '3,27', '3,16',\n",
       "       '2,61', '3,72', '4,27', '4,63', '3,25', '4,2', '4,54', '3,68',\n",
       "       '3,77', '4,01', '3,98', '4,25', '4,33', '2,71', '4,23', '4,07',\n",
       "       '3,46', '3,61', '4,35', '3,95', '2,36', '3,67', '4,59', '4,06',\n",
       "       '4,12', '4,6', '2,89', '3,59', '3,62', '4,64', '2,84', '4,36',\n",
       "       '956,58', '2,28', '4,5', '2,22', '3,33', '2,4', '4,05', '4,04',\n",
       "       '4,32', '4,51', '4,24', '4', '4,19', '4,58', '4,67'], dtype=object)"
      ]
     },
     "execution_count": 13,
     "metadata": {},
     "output_type": "execute_result"
    }
   ],
   "source": [
    "df['Sedentary_hours_daily'].unique()"
   ]
  },
  {
   "cell_type": "code",
   "execution_count": 14,
   "metadata": {},
   "outputs": [],
   "source": [
    "df['Sedentary_hours_daily'] = df['Sedentary_hours_daily'].apply(lambda s: s.replace(',', '.')).astype(float)\n",
    "df['Sedentary_hours_daily'] = df['Sedentary_hours_daily'].apply(lambda x: np.nan if x > 24 else x)\n"
   ]
  },
  {
   "cell_type": "code",
   "execution_count": 15,
   "metadata": {},
   "outputs": [
    {
     "data": {
      "text/plain": [
       "Transportation                   object\n",
       "Regular_fiber_diet              float64\n",
       "Diagnostic_in_family_history       bool\n",
       "High_calorie_diet                  bool\n",
       "Sedentary_hours_daily           float64\n",
       "Age                              object\n",
       "Alcohol                          object\n",
       "Est_avg_calorie_intake            int64\n",
       "Main_meals_daily                 object\n",
       "Snacks                           object\n",
       "Height                           object\n",
       "Smoker                           object\n",
       "Water_daily                      object\n",
       "Calorie_monitoring               object\n",
       "Weight                           object\n",
       "Physical_activity_level          object\n",
       "Technology_time_use               int64\n",
       "Gender                           object\n",
       "Diagnostic                       object\n",
       "dtype: object"
      ]
     },
     "execution_count": 15,
     "metadata": {},
     "output_type": "execute_result"
    }
   ],
   "source": [
    "df.dtypes"
   ]
  },
  {
   "cell_type": "code",
   "execution_count": 16,
   "metadata": {},
   "outputs": [
    {
     "data": {
      "text/html": [
       "<div>\n",
       "<style scoped>\n",
       "    .dataframe tbody tr th:only-of-type {\n",
       "        vertical-align: middle;\n",
       "    }\n",
       "\n",
       "    .dataframe tbody tr th {\n",
       "        vertical-align: top;\n",
       "    }\n",
       "\n",
       "    .dataframe thead th {\n",
       "        text-align: right;\n",
       "    }\n",
       "</style>\n",
       "<table border=\"1\" class=\"dataframe\">\n",
       "  <thead>\n",
       "    <tr style=\"text-align: right;\">\n",
       "      <th></th>\n",
       "      <th>Regular_fiber_diet</th>\n",
       "      <th>Sedentary_hours_daily</th>\n",
       "      <th>Age</th>\n",
       "      <th>Est_avg_calorie_intake</th>\n",
       "      <th>Technology_time_use</th>\n",
       "    </tr>\n",
       "  </thead>\n",
       "  <tbody>\n",
       "    <tr>\n",
       "      <th>count</th>\n",
       "      <td>1921.000000</td>\n",
       "      <td>1920.000000</td>\n",
       "      <td>1919.000000</td>\n",
       "      <td>1921.000000</td>\n",
       "      <td>1921.000000</td>\n",
       "    </tr>\n",
       "    <tr>\n",
       "      <th>mean</th>\n",
       "      <td>3.844937</td>\n",
       "      <td>3.197276</td>\n",
       "      <td>24.353520</td>\n",
       "      <td>2253.687663</td>\n",
       "      <td>1.345653</td>\n",
       "    </tr>\n",
       "    <tr>\n",
       "      <th>std</th>\n",
       "      <td>62.439617</td>\n",
       "      <td>0.575756</td>\n",
       "      <td>6.409236</td>\n",
       "      <td>434.075794</td>\n",
       "      <td>29.789928</td>\n",
       "    </tr>\n",
       "    <tr>\n",
       "      <th>min</th>\n",
       "      <td>1.000000</td>\n",
       "      <td>2.210000</td>\n",
       "      <td>15.000000</td>\n",
       "      <td>1500.000000</td>\n",
       "      <td>0.000000</td>\n",
       "    </tr>\n",
       "    <tr>\n",
       "      <th>25%</th>\n",
       "      <td>2.000000</td>\n",
       "      <td>2.770000</td>\n",
       "      <td>19.967065</td>\n",
       "      <td>1871.000000</td>\n",
       "      <td>0.000000</td>\n",
       "    </tr>\n",
       "    <tr>\n",
       "      <th>50%</th>\n",
       "      <td>2.387426</td>\n",
       "      <td>3.130000</td>\n",
       "      <td>22.829681</td>\n",
       "      <td>2253.000000</td>\n",
       "      <td>1.000000</td>\n",
       "    </tr>\n",
       "    <tr>\n",
       "      <th>75%</th>\n",
       "      <td>3.000000</td>\n",
       "      <td>3.640000</td>\n",
       "      <td>26.000000</td>\n",
       "      <td>2628.000000</td>\n",
       "      <td>1.000000</td>\n",
       "    </tr>\n",
       "    <tr>\n",
       "      <th>max</th>\n",
       "      <td>2739.000000</td>\n",
       "      <td>4.670000</td>\n",
       "      <td>61.000000</td>\n",
       "      <td>3000.000000</td>\n",
       "      <td>1306.000000</td>\n",
       "    </tr>\n",
       "  </tbody>\n",
       "</table>\n",
       "</div>"
      ],
      "text/plain": [
       "       Regular_fiber_diet  Sedentary_hours_daily          Age  \\\n",
       "count         1921.000000            1920.000000  1919.000000   \n",
       "mean             3.844937               3.197276    24.353520   \n",
       "std             62.439617               0.575756     6.409236   \n",
       "min              1.000000               2.210000    15.000000   \n",
       "25%              2.000000               2.770000    19.967065   \n",
       "50%              2.387426               3.130000    22.829681   \n",
       "75%              3.000000               3.640000    26.000000   \n",
       "max           2739.000000               4.670000    61.000000   \n",
       "\n",
       "       Est_avg_calorie_intake  Technology_time_use  \n",
       "count             1921.000000          1921.000000  \n",
       "mean              2253.687663             1.345653  \n",
       "std                434.075794            29.789928  \n",
       "min               1500.000000             0.000000  \n",
       "25%               1871.000000             0.000000  \n",
       "50%               2253.000000             1.000000  \n",
       "75%               2628.000000             1.000000  \n",
       "max               3000.000000          1306.000000  "
      ]
     },
     "execution_count": 16,
     "metadata": {},
     "output_type": "execute_result"
    }
   ],
   "source": [
    "df['Age'].unique()\n",
    "df['Age'] = df['Age'].apply(lambda s: s.replace(',', '.')).astype(float)\n",
    "df['Age'] = df['Age'].apply(lambda x: np.nan if x > 100 else x)\n",
    "df.describe()"
   ]
  },
  {
   "cell_type": "code",
   "execution_count": 17,
   "metadata": {},
   "outputs": [
    {
     "data": {
      "text/plain": [
       "Transportation                   object\n",
       "Regular_fiber_diet              float64\n",
       "Diagnostic_in_family_history       bool\n",
       "High_calorie_diet                  bool\n",
       "Sedentary_hours_daily           float64\n",
       "Age                             float64\n",
       "Alcohol                          object\n",
       "Est_avg_calorie_intake            int64\n",
       "Main_meals_daily                 object\n",
       "Snacks                           object\n",
       "Height                           object\n",
       "Smoker                           object\n",
       "Water_daily                      object\n",
       "Calorie_monitoring               object\n",
       "Weight                           object\n",
       "Physical_activity_level          object\n",
       "Technology_time_use               int64\n",
       "Gender                           object\n",
       "Diagnostic                       object\n",
       "dtype: object"
      ]
     },
     "execution_count": 17,
     "metadata": {},
     "output_type": "execute_result"
    }
   ],
   "source": [
    "df.dtypes"
   ]
  },
  {
   "cell_type": "code",
   "execution_count": 18,
   "metadata": {},
   "outputs": [
    {
     "data": {
      "text/plain": [
       "array(['no', 'Sometimes', 'Frequently', 'Always'], dtype=object)"
      ]
     },
     "execution_count": 18,
     "metadata": {},
     "output_type": "execute_result"
    }
   ],
   "source": [
    "df['Alcohol'].unique()"
   ]
  },
  {
   "cell_type": "code",
   "execution_count": 19,
   "metadata": {},
   "outputs": [
    {
     "data": {
      "text/plain": [
       "count    1921.000000\n",
       "mean     2253.687663\n",
       "std       434.075794\n",
       "min      1500.000000\n",
       "25%      1871.000000\n",
       "50%      2253.000000\n",
       "75%      2628.000000\n",
       "max      3000.000000\n",
       "Name: Est_avg_calorie_intake, dtype: float64"
      ]
     },
     "execution_count": 19,
     "metadata": {},
     "output_type": "execute_result"
    }
   ],
   "source": [
    "df['Est_avg_calorie_intake'].describe()"
   ]
  },
  {
   "cell_type": "code",
   "execution_count": 20,
   "metadata": {},
   "outputs": [
    {
     "data": {
      "text/plain": [
       "count    1921.000000\n",
       "mean        2.683472\n",
       "std         0.779179\n",
       "min         1.000000\n",
       "25%         2.658639\n",
       "50%         3.000000\n",
       "75%         3.000000\n",
       "max         4.000000\n",
       "Name: Main_meals_daily, dtype: float64"
      ]
     },
     "execution_count": 20,
     "metadata": {},
     "output_type": "execute_result"
    }
   ],
   "source": [
    "df['Main_meals_daily'].unique()\n",
    "df['Main_meals_daily'] = df['Main_meals_daily'].apply(lambda s: s.replace(',', '.')).astype(float)\n",
    "df['Main_meals_daily'].describe()"
   ]
  },
  {
   "cell_type": "code",
   "execution_count": 21,
   "metadata": {},
   "outputs": [
    {
     "data": {
      "text/plain": [
       "Transportation                   object\n",
       "Regular_fiber_diet              float64\n",
       "Diagnostic_in_family_history       bool\n",
       "High_calorie_diet                  bool\n",
       "Sedentary_hours_daily           float64\n",
       "Age                             float64\n",
       "Alcohol                          object\n",
       "Est_avg_calorie_intake            int64\n",
       "Main_meals_daily                float64\n",
       "Snacks                           object\n",
       "Height                           object\n",
       "Smoker                           object\n",
       "Water_daily                      object\n",
       "Calorie_monitoring               object\n",
       "Weight                           object\n",
       "Physical_activity_level          object\n",
       "Technology_time_use               int64\n",
       "Gender                           object\n",
       "Diagnostic                       object\n",
       "dtype: object"
      ]
     },
     "execution_count": 21,
     "metadata": {},
     "output_type": "execute_result"
    }
   ],
   "source": [
    "df.dtypes"
   ]
  },
  {
   "cell_type": "code",
   "execution_count": 22,
   "metadata": {},
   "outputs": [
    {
     "data": {
      "text/plain": [
       "array(['Sometimes', 'Frequently', 'Always', 'no'], dtype=object)"
      ]
     },
     "execution_count": 22,
     "metadata": {},
     "output_type": "execute_result"
    }
   ],
   "source": [
    "df['Snacks'].unique()"
   ]
  },
  {
   "cell_type": "code",
   "execution_count": 24,
   "metadata": {},
   "outputs": [
    {
     "data": {
      "text/plain": [
       "count    1921.000000\n",
       "mean        1.702378\n",
       "std         0.093334\n",
       "min         1.450000\n",
       "25%         1.630000\n",
       "50%         1.700000\n",
       "75%         1.770000\n",
       "max         1.980000\n",
       "Name: Height, dtype: float64"
      ]
     },
     "execution_count": 24,
     "metadata": {},
     "output_type": "execute_result"
    }
   ],
   "source": [
    "df['Height'] = df['Height'].apply(lambda s: s.replace(',', '.')).astype(float)\n",
    "df['Height'] = df['Height'].apply(lambda x: x / 1000 if x > 1000 else x)\n",
    "df['Height'].describe()"
   ]
  },
  {
   "cell_type": "code",
   "execution_count": 25,
   "metadata": {},
   "outputs": [
    {
     "data": {
      "text/plain": [
       "Transportation                   object\n",
       "Regular_fiber_diet              float64\n",
       "Diagnostic_in_family_history       bool\n",
       "High_calorie_diet                  bool\n",
       "Sedentary_hours_daily           float64\n",
       "Age                             float64\n",
       "Alcohol                          object\n",
       "Est_avg_calorie_intake            int64\n",
       "Main_meals_daily                float64\n",
       "Snacks                           object\n",
       "Height                          float64\n",
       "Smoker                           object\n",
       "Water_daily                      object\n",
       "Calorie_monitoring               object\n",
       "Weight                           object\n",
       "Physical_activity_level          object\n",
       "Technology_time_use               int64\n",
       "Gender                           object\n",
       "Diagnostic                       object\n",
       "dtype: object"
      ]
     },
     "execution_count": 25,
     "metadata": {},
     "output_type": "execute_result"
    }
   ],
   "source": [
    "df.dtypes"
   ]
  },
  {
   "cell_type": "code",
   "execution_count": 26,
   "metadata": {},
   "outputs": [],
   "source": [
    "df['Smoker'].unique()\n",
    "df['Smoker'] = df['Smoker'].apply(lambda s: s == 'yes').astype(bool)"
   ]
  },
  {
   "cell_type": "code",
   "execution_count": 27,
   "metadata": {},
   "outputs": [
    {
     "data": {
      "text/plain": [
       "Transportation                   object\n",
       "Regular_fiber_diet              float64\n",
       "Diagnostic_in_family_history       bool\n",
       "High_calorie_diet                  bool\n",
       "Sedentary_hours_daily           float64\n",
       "Age                             float64\n",
       "Alcohol                          object\n",
       "Est_avg_calorie_intake            int64\n",
       "Main_meals_daily                float64\n",
       "Snacks                           object\n",
       "Height                          float64\n",
       "Smoker                             bool\n",
       "Water_daily                      object\n",
       "Calorie_monitoring               object\n",
       "Weight                           object\n",
       "Physical_activity_level          object\n",
       "Technology_time_use               int64\n",
       "Gender                           object\n",
       "Diagnostic                       object\n",
       "dtype: object"
      ]
     },
     "execution_count": 27,
     "metadata": {},
     "output_type": "execute_result"
    }
   ],
   "source": [
    "df.dtypes"
   ]
  },
  {
   "cell_type": "code",
   "execution_count": 28,
   "metadata": {},
   "outputs": [],
   "source": [
    "df['Water_daily'] = df['Water_daily'].apply(lambda s: s.replace(',', '.')).astype(float)"
   ]
  },
  {
   "cell_type": "code",
   "execution_count": 29,
   "metadata": {},
   "outputs": [
    {
     "data": {
      "text/plain": [
       "count    1921.000000\n",
       "mean        2.010367\n",
       "std         0.611034\n",
       "min         1.000000\n",
       "25%         1.606076\n",
       "50%         2.000000\n",
       "75%         2.480555\n",
       "max         3.000000\n",
       "Name: Water_daily, dtype: float64"
      ]
     },
     "execution_count": 29,
     "metadata": {},
     "output_type": "execute_result"
    }
   ],
   "source": [
    "df['Water_daily'].describe()"
   ]
  },
  {
   "cell_type": "code",
   "execution_count": 30,
   "metadata": {},
   "outputs": [
    {
     "data": {
      "text/plain": [
       "Transportation                   object\n",
       "Regular_fiber_diet              float64\n",
       "Diagnostic_in_family_history       bool\n",
       "High_calorie_diet                  bool\n",
       "Sedentary_hours_daily           float64\n",
       "Age                             float64\n",
       "Alcohol                          object\n",
       "Est_avg_calorie_intake            int64\n",
       "Main_meals_daily                float64\n",
       "Snacks                           object\n",
       "Height                          float64\n",
       "Smoker                             bool\n",
       "Water_daily                     float64\n",
       "Calorie_monitoring               object\n",
       "Weight                           object\n",
       "Physical_activity_level          object\n",
       "Technology_time_use               int64\n",
       "Gender                           object\n",
       "Diagnostic                       object\n",
       "dtype: object"
      ]
     },
     "execution_count": 30,
     "metadata": {},
     "output_type": "execute_result"
    }
   ],
   "source": [
    "df.dtypes"
   ]
  },
  {
   "cell_type": "code",
   "execution_count": 31,
   "metadata": {},
   "outputs": [],
   "source": [
    "df['Calorie_monitoring'] = df['Calorie_monitoring'].apply(lambda s: s == 'yes').astype(bool)"
   ]
  },
  {
   "cell_type": "code",
   "execution_count": 32,
   "metadata": {},
   "outputs": [],
   "source": [
    "df['Weight'] = df['Weight'].apply(lambda s: s.replace(',', '.')).astype(float)\n",
    "\n",
    "df['Weight'] = df['Weight'].apply(lambda x: np.nan if x > 80000 else x)"
   ]
  },
  {
   "cell_type": "code",
   "execution_count": 33,
   "metadata": {},
   "outputs": [
    {
     "data": {
      "text/plain": [
       "Transportation                   object\n",
       "Regular_fiber_diet              float64\n",
       "Diagnostic_in_family_history       bool\n",
       "High_calorie_diet                  bool\n",
       "Sedentary_hours_daily           float64\n",
       "Age                             float64\n",
       "Alcohol                          object\n",
       "Est_avg_calorie_intake            int64\n",
       "Main_meals_daily                float64\n",
       "Snacks                           object\n",
       "Height                          float64\n",
       "Smoker                             bool\n",
       "Water_daily                     float64\n",
       "Calorie_monitoring                 bool\n",
       "Weight                          float64\n",
       "Physical_activity_level          object\n",
       "Technology_time_use               int64\n",
       "Gender                           object\n",
       "Diagnostic                       object\n",
       "dtype: object"
      ]
     },
     "execution_count": 33,
     "metadata": {},
     "output_type": "execute_result"
    }
   ],
   "source": [
    "df.dtypes"
   ]
  },
  {
   "cell_type": "code",
   "execution_count": 34,
   "metadata": {},
   "outputs": [],
   "source": [
    "df['Physical_activity_level'].unique()\n",
    "df['Physical_activity_level'] = df['Physical_activity_level'].apply(lambda s: s.replace(',', '.')).astype(float)"
   ]
  },
  {
   "cell_type": "code",
   "execution_count": 35,
   "metadata": {},
   "outputs": [
    {
     "data": {
      "text/plain": [
       "count    1921.000000\n",
       "mean        1.012640\n",
       "std         0.855526\n",
       "min         0.000000\n",
       "25%         0.115974\n",
       "50%         1.000000\n",
       "75%         1.683497\n",
       "max         3.000000\n",
       "Name: Physical_activity_level, dtype: float64"
      ]
     },
     "execution_count": 35,
     "metadata": {},
     "output_type": "execute_result"
    }
   ],
   "source": [
    "df['Physical_activity_level'].describe()"
   ]
  },
  {
   "cell_type": "code",
   "execution_count": 36,
   "metadata": {},
   "outputs": [],
   "source": [
    "df['Technology_time_use'].describe()\n",
    "\n",
    "df['Technology_time_use'] = df['Technology_time_use'].apply(lambda x: np.nan if x > 2 else x)"
   ]
  },
  {
   "cell_type": "code",
   "execution_count": 37,
   "metadata": {},
   "outputs": [
    {
     "data": {
      "text/plain": [
       "Transportation                   object\n",
       "Regular_fiber_diet              float64\n",
       "Diagnostic_in_family_history       bool\n",
       "High_calorie_diet                  bool\n",
       "Sedentary_hours_daily           float64\n",
       "Age                             float64\n",
       "Alcohol                          object\n",
       "Est_avg_calorie_intake            int64\n",
       "Main_meals_daily                float64\n",
       "Snacks                           object\n",
       "Height                          float64\n",
       "Smoker                             bool\n",
       "Water_daily                     float64\n",
       "Calorie_monitoring                 bool\n",
       "Weight                          float64\n",
       "Physical_activity_level         float64\n",
       "Technology_time_use             float64\n",
       "Gender                           object\n",
       "Diagnostic                       object\n",
       "dtype: object"
      ]
     },
     "execution_count": 37,
     "metadata": {},
     "output_type": "execute_result"
    }
   ],
   "source": [
    "df.dtypes"
   ]
  },
  {
   "cell_type": "code",
   "execution_count": 38,
   "metadata": {},
   "outputs": [
    {
     "data": {
      "text/plain": [
       "array(['Female', 'Male'], dtype=object)"
      ]
     },
     "execution_count": 38,
     "metadata": {},
     "output_type": "execute_result"
    }
   ],
   "source": [
    "df['Gender'].unique()"
   ]
  },
  {
   "cell_type": "code",
   "execution_count": 39,
   "metadata": {},
   "outputs": [
    {
     "data": {
      "text/plain": [
       "array(['D1', 'D2', 'D3', 'D4', 'D0', 'D5', 'D6'], dtype=object)"
      ]
     },
     "execution_count": 39,
     "metadata": {},
     "output_type": "execute_result"
    }
   ],
   "source": [
    "df['Diagnostic'].unique()"
   ]
  },
  {
   "cell_type": "code",
   "execution_count": 40,
   "metadata": {},
   "outputs": [],
   "source": [
    "df.dropna(inplace=True)"
   ]
  },
  {
   "cell_type": "code",
   "execution_count": 41,
   "metadata": {},
   "outputs": [
    {
     "data": {
      "text/html": [
       "<div>\n",
       "<style scoped>\n",
       "    .dataframe tbody tr th:only-of-type {\n",
       "        vertical-align: middle;\n",
       "    }\n",
       "\n",
       "    .dataframe tbody tr th {\n",
       "        vertical-align: top;\n",
       "    }\n",
       "\n",
       "    .dataframe thead th {\n",
       "        text-align: right;\n",
       "    }\n",
       "</style>\n",
       "<table border=\"1\" class=\"dataframe\">\n",
       "  <thead>\n",
       "    <tr style=\"text-align: right;\">\n",
       "      <th></th>\n",
       "      <th>Transportation</th>\n",
       "      <th>Regular_fiber_diet</th>\n",
       "      <th>Diagnostic_in_family_history</th>\n",
       "      <th>High_calorie_diet</th>\n",
       "      <th>Sedentary_hours_daily</th>\n",
       "      <th>Age</th>\n",
       "      <th>Alcohol</th>\n",
       "      <th>Est_avg_calorie_intake</th>\n",
       "      <th>Main_meals_daily</th>\n",
       "      <th>Snacks</th>\n",
       "      <th>Height</th>\n",
       "      <th>Smoker</th>\n",
       "      <th>Water_daily</th>\n",
       "      <th>Calorie_monitoring</th>\n",
       "      <th>Weight</th>\n",
       "      <th>Physical_activity_level</th>\n",
       "      <th>Technology_time_use</th>\n",
       "      <th>Gender</th>\n",
       "      <th>Diagnostic</th>\n",
       "    </tr>\n",
       "  </thead>\n",
       "  <tbody>\n",
       "    <tr>\n",
       "      <th>0</th>\n",
       "      <td>Public_Transportation</td>\n",
       "      <td>2.0</td>\n",
       "      <td>True</td>\n",
       "      <td>False</td>\n",
       "      <td>3.73</td>\n",
       "      <td>21.0</td>\n",
       "      <td>no</td>\n",
       "      <td>2474</td>\n",
       "      <td>3.0</td>\n",
       "      <td>Sometimes</td>\n",
       "      <td>1.62</td>\n",
       "      <td>False</td>\n",
       "      <td>2.0</td>\n",
       "      <td>False</td>\n",
       "      <td>64.0</td>\n",
       "      <td>0.0</td>\n",
       "      <td>1.0</td>\n",
       "      <td>Female</td>\n",
       "      <td>D1</td>\n",
       "    </tr>\n",
       "    <tr>\n",
       "      <th>1</th>\n",
       "      <td>Public_Transportation</td>\n",
       "      <td>3.0</td>\n",
       "      <td>True</td>\n",
       "      <td>False</td>\n",
       "      <td>2.92</td>\n",
       "      <td>21.0</td>\n",
       "      <td>Sometimes</td>\n",
       "      <td>2429</td>\n",
       "      <td>3.0</td>\n",
       "      <td>Sometimes</td>\n",
       "      <td>1.52</td>\n",
       "      <td>True</td>\n",
       "      <td>3.0</td>\n",
       "      <td>True</td>\n",
       "      <td>56.0</td>\n",
       "      <td>3.0</td>\n",
       "      <td>0.0</td>\n",
       "      <td>Female</td>\n",
       "      <td>D1</td>\n",
       "    </tr>\n",
       "    <tr>\n",
       "      <th>2</th>\n",
       "      <td>Public_Transportation</td>\n",
       "      <td>2.0</td>\n",
       "      <td>True</td>\n",
       "      <td>False</td>\n",
       "      <td>3.85</td>\n",
       "      <td>23.0</td>\n",
       "      <td>Frequently</td>\n",
       "      <td>2656</td>\n",
       "      <td>3.0</td>\n",
       "      <td>Sometimes</td>\n",
       "      <td>1.80</td>\n",
       "      <td>False</td>\n",
       "      <td>2.0</td>\n",
       "      <td>False</td>\n",
       "      <td>77.0</td>\n",
       "      <td>2.0</td>\n",
       "      <td>1.0</td>\n",
       "      <td>Male</td>\n",
       "      <td>D1</td>\n",
       "    </tr>\n",
       "    <tr>\n",
       "      <th>3</th>\n",
       "      <td>Walking</td>\n",
       "      <td>3.0</td>\n",
       "      <td>False</td>\n",
       "      <td>False</td>\n",
       "      <td>3.01</td>\n",
       "      <td>27.0</td>\n",
       "      <td>Frequently</td>\n",
       "      <td>2260</td>\n",
       "      <td>3.0</td>\n",
       "      <td>Sometimes</td>\n",
       "      <td>1.80</td>\n",
       "      <td>False</td>\n",
       "      <td>2.0</td>\n",
       "      <td>False</td>\n",
       "      <td>-1.0</td>\n",
       "      <td>2.0</td>\n",
       "      <td>0.0</td>\n",
       "      <td>Male</td>\n",
       "      <td>D2</td>\n",
       "    </tr>\n",
       "    <tr>\n",
       "      <th>4</th>\n",
       "      <td>Public_Transportation</td>\n",
       "      <td>2.0</td>\n",
       "      <td>False</td>\n",
       "      <td>False</td>\n",
       "      <td>2.73</td>\n",
       "      <td>22.0</td>\n",
       "      <td>Sometimes</td>\n",
       "      <td>1895</td>\n",
       "      <td>1.0</td>\n",
       "      <td>Sometimes</td>\n",
       "      <td>1.78</td>\n",
       "      <td>False</td>\n",
       "      <td>2.0</td>\n",
       "      <td>False</td>\n",
       "      <td>89.8</td>\n",
       "      <td>0.0</td>\n",
       "      <td>0.0</td>\n",
       "      <td>Male</td>\n",
       "      <td>D3</td>\n",
       "    </tr>\n",
       "  </tbody>\n",
       "</table>\n",
       "</div>"
      ],
      "text/plain": [
       "          Transportation  Regular_fiber_diet  Diagnostic_in_family_history  \\\n",
       "0  Public_Transportation                 2.0                          True   \n",
       "1  Public_Transportation                 3.0                          True   \n",
       "2  Public_Transportation                 2.0                          True   \n",
       "3                Walking                 3.0                         False   \n",
       "4  Public_Transportation                 2.0                         False   \n",
       "\n",
       "   High_calorie_diet  Sedentary_hours_daily   Age     Alcohol  \\\n",
       "0              False                   3.73  21.0          no   \n",
       "1              False                   2.92  21.0   Sometimes   \n",
       "2              False                   3.85  23.0  Frequently   \n",
       "3              False                   3.01  27.0  Frequently   \n",
       "4              False                   2.73  22.0   Sometimes   \n",
       "\n",
       "   Est_avg_calorie_intake  Main_meals_daily     Snacks  Height  Smoker  \\\n",
       "0                    2474               3.0  Sometimes    1.62   False   \n",
       "1                    2429               3.0  Sometimes    1.52    True   \n",
       "2                    2656               3.0  Sometimes    1.80   False   \n",
       "3                    2260               3.0  Sometimes    1.80   False   \n",
       "4                    1895               1.0  Sometimes    1.78   False   \n",
       "\n",
       "   Water_daily  Calorie_monitoring  Weight  Physical_activity_level  \\\n",
       "0          2.0               False    64.0                      0.0   \n",
       "1          3.0                True    56.0                      3.0   \n",
       "2          2.0               False    77.0                      2.0   \n",
       "3          2.0               False    -1.0                      2.0   \n",
       "4          2.0               False    89.8                      0.0   \n",
       "\n",
       "   Technology_time_use  Gender Diagnostic  \n",
       "0                  1.0  Female         D1  \n",
       "1                  0.0  Female         D1  \n",
       "2                  1.0    Male         D1  \n",
       "3                  0.0    Male         D2  \n",
       "4                  0.0    Male         D3  "
      ]
     },
     "execution_count": 41,
     "metadata": {},
     "output_type": "execute_result"
    }
   ],
   "source": [
    "df.head()"
   ]
  },
  {
   "cell_type": "code",
   "execution_count": 42,
   "metadata": {},
   "outputs": [],
   "source": [
    "df.to_csv('cleaned_data.csv', index=False)"
   ]
  }
 ],
 "metadata": {
  "kernelspec": {
   "display_name": "Python 3",
   "language": "python",
   "name": "python3"
  },
  "language_info": {
   "codemirror_mode": {
    "name": "ipython",
    "version": 3
   },
   "file_extension": ".py",
   "mimetype": "text/x-python",
   "name": "python",
   "nbconvert_exporter": "python",
   "pygments_lexer": "ipython3",
   "version": "3.8.10"
  }
 },
 "nbformat": 4,
 "nbformat_minor": 2
}
